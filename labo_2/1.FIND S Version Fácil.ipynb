{
 "cells": [
  {
   "cell_type": "markdown",
   "metadata": {},
   "source": [
    "# FIND-S"
   ]
  },
  {
   "cell_type": "code",
   "execution_count": 1,
   "metadata": {},
   "outputs": [
    {
     "name": "stdout",
     "output_type": "stream",
     "text": [
      " \n",
      " The most general hypothesis : ['?','?','?','?','?','?']\n",
      "\n",
      "\n",
      " The most specific hypothesis : ['0','0','0','0','0','0']\n",
      "\n",
      "\n",
      " The Given Training Data Set \n",
      "\n",
      "['Sunny', 'Warm', 'Normal', 'Strong', 'Warm', 'Same', 'Yes']\n",
      "['Sunny', 'Warm', 'High', 'Strong', 'Warm', 'Same', 'Yes']\n",
      "['Rainy', 'Cold', 'High', 'Strong', 'Warm', 'Change', 'No']\n",
      "['Sunny', 'Warm', 'High', 'Strong', 'Cool', 'Change', 'Yes']\n"
     ]
    }
   ],
   "source": [
    "# Author : Dr.Thyagaraju G S , Context Innovations Lab , DEpt of CSE , SDMIT - Ujire \n",
    "# Date : July 11 2018 \n",
    "import random\n",
    "import csv\n",
    "\n",
    "attributes = [['Sunny','Rainy'],\n",
    "              ['Warm','Cold'],\n",
    "              ['Normal','High'],\n",
    "              ['Strong','Weak'],\n",
    "              ['Warm','Cool'],\n",
    "              ['Same','Change']]\n",
    "\n",
    "num_attributes = len(attributes)\n",
    "\n",
    "print (\" \\n The most general hypothesis : ['?','?','?','?','?','?']\\n\")\n",
    "print (\"\\n The most specific hypothesis : ['0','0','0','0','0','0']\\n\")\n",
    "\n",
    "X = []\n",
    "print(\"\\n The Given Training Data Set \\n\")\n",
    "\n",
    "with open('ws.csv', 'r') as csvFile:\n",
    "    reader = csv.reader(csvFile)\n",
    "    for row in reader:\n",
    "        X.append (row)\n",
    "        print(row)"
   ]
  },
  {
   "cell_type": "code",
   "execution_count": 3,
   "metadata": {
    "collapsed": true
   },
   "outputs": [],
   "source": [
    "def satisface(x,y):\n",
    "    # Completar\n",
    "\n",
    "def generaliza(x,y):\n",
    "    # Completar"
   ]
  },
  {
   "cell_type": "code",
   "execution_count": 4,
   "metadata": {
    "collapsed": true
   },
   "outputs": [],
   "source": [
    "def FindS(X, hipotesis):\n",
    "    for x, j in zip(X,range(0,len(X))):\n",
    "        instancia, cx = x[:-1], x[-1]\n",
    "        if cx == 'Yes':\n",
    "            for x, i in zip(instancia, range(0,len(hipotesis))):\n",
    "                if satisface(x,hipotesis[i]):\n",
    "                    continue\n",
    "                else:\n",
    "                    hipotesis[i] = generaliza(x,hipotesis[i])   \n",
    "        print(\" Para el ejemplo de entrenamiento N:{0} la hipótesis es \".format(j),hipotesis)\n",
    "    return hipotesis"
   ]
  },
  {
   "cell_type": "code",
   "execution_count": 6,
   "metadata": {},
   "outputs": [
    {
     "name": "stdout",
     "output_type": "stream",
     "text": [
      "\n",
      " Los valores iniciales de la hipotesis son:  ['0', '0', '0', '0', '0', '0']\n",
      " Para el ejemplo de entrenamiento N:0 la hipótesis es  ['Sunny', 'Warm', 'Normal', 'Strong', 'Warm', 'Same']\n",
      " Para el ejemplo de entrenamiento N:1 la hipótesis es  ['Sunny', 'Warm', '?', 'Strong', 'Warm', 'Same']\n",
      " Para el ejemplo de entrenamiento N:2 la hipótesis es  ['Sunny', 'Warm', '?', 'Strong', 'Warm', 'Same']\n",
      " Para el ejemplo de entrenamiento N:3 la hipótesis es  ['Sunny', 'Warm', '?', 'Strong', '?', '?']\n"
     ]
    },
    {
     "data": {
      "text/plain": [
       "['Sunny', 'Warm', '?', 'Strong', '?', '?']"
      ]
     },
     "execution_count": 6,
     "metadata": {},
     "output_type": "execute_result"
    }
   ],
   "source": [
    "hypothesis = ['0'] * num_attributes\n",
    "\n",
    "print(\"\\n Los valores iniciales de la hipotesis son: \", hypothesis)\n",
    "\n",
    "FindS(X,hypothesis)"
   ]
  }
 ],
 "metadata": {
  "kernelspec": {
   "display_name": "Python [default]",
   "language": "python",
   "name": "python3"
  },
  "language_info": {
   "codemirror_mode": {
    "name": "ipython",
    "version": 3
   },
   "file_extension": ".py",
   "mimetype": "text/x-python",
   "name": "python",
   "nbconvert_exporter": "python",
   "pygments_lexer": "ipython3",
   "version": "3.6.1"
  }
 },
 "nbformat": 4,
 "nbformat_minor": 2
}
