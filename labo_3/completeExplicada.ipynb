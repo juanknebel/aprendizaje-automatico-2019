{
 "cells": [
  {
   "cell_type": "markdown",
   "metadata": {},
   "source": [
    "<center>![](logo.jpg)</center>\n",
    "\n",
    "\n",
    "# Ejemplo completo de árbol de decisión con sklearn"
   ]
  },
  {
   "cell_type": "markdown",
   "metadata": {},
   "source": [
    "## Importación de las librería necesarias\n",
    "\n",
    "* sklearn: https://scikit-learn.org/stable/ Machine Learning in Python\n",
    "* pandas: https://pandas.pydata.org/ Python Data Analysis Library\n",
    "* csv: https://realpython.com/python-csv/ Reading and Writing CSV Files in Python\n",
    "* pydotplus: https://pypi.org/project/pydotplus/ Python Interface to Graphviz’s Dot language\n",
    "    Se debe instalar https://www.graphviz.org/ y actualizar Anaconda\n",
    "* matplotlib: https://matplotlib.org/  Python 2D plotting library\n"
   ]
  },
  {
   "cell_type": "code",
   "execution_count": 16,
   "metadata": {},
   "outputs": [],
   "source": [
    "import sklearn.datasets as datasets\n",
    "import pandas as pd\n",
    "import random\n",
    "import csv\n",
    "from sklearn import preprocessing\n",
    "from sklearn.model_selection import train_test_split\n",
    "from sklearn.tree import DecisionTreeClassifier\n",
    "from sklearn.metrics import accuracy_score\n",
    "from sklearn.metrics import jaccard_similarity_score\n",
    "from sklearn.metrics import confusion_matrix\n",
    "from sklearn.externals.six import StringIO  \n",
    "from IPython.display import Image  \n",
    "from sklearn.tree import export_graphviz\n",
    "import pydotplus\n",
    "from sklearn.metrics import roc_auc_score\n",
    "from sklearn.metrics import roc_curve\n",
    "import matplotlib.pyplot as plt\n"
   ]
  },
  {
   "cell_type": "markdown",
   "metadata": {},
   "source": [
    "## Leer archivo csv (Play Tennis)\n",
    "\n",
    "Recorre todas las filas del archivo csvfile y lo deja en lista a, en donde cada fila es una lista "
   ]
  },
  {
   "cell_type": "code",
   "execution_count": 18,
   "metadata": {},
   "outputs": [
    {
     "name": "stdout",
     "output_type": "stream",
     "text": [
      "\n",
      " The Given Training Data Set \n",
      "\n"
     ]
    }
   ],
   "source": [
    "a = []\n",
    "print(\"\\n The Given Training Data Set \\n\")\n",
    "\n",
    "with open('ws.csv', 'r') as csvFile:\n",
    "    reader = csv.reader(csvFile)\n",
    "    for row in reader:\n",
    "        a.append (row)  \n"
   ]
  },
  {
   "cell_type": "markdown",
   "metadata": {},
   "source": [
    "## Define los valores posibles de los atributos\n",
    "\n",
    "Son 4 variables categóricas y la longitud del input es 14"
   ]
  },
  {
   "cell_type": "code",
   "execution_count": 20,
   "metadata": {},
   "outputs": [
    {
     "name": "stdout",
     "output_type": "stream",
     "text": [
      "14\n",
      "4\n"
     ]
    },
    {
     "data": {
      "text/plain": [
       "[['sunny', 'hot', 'high', 'weak', 'no'],\n",
       " ['sunny', 'hot', 'high', 'strong', 'no'],\n",
       " ['overcast', 'hot', 'high', 'weak', 'yes'],\n",
       " ['rain', 'mild', 'high', 'weak', 'yes'],\n",
       " ['rain', 'cool', 'normal', 'weak', 'yes'],\n",
       " ['rain', 'cool', 'normal', 'strong', 'no'],\n",
       " ['overcast', 'cool', 'normal', 'strong', 'yes'],\n",
       " ['sunny', 'mild', 'high', 'weak', 'no'],\n",
       " ['sunny', 'cool', 'normal', 'weak', 'yes'],\n",
       " ['rain', 'mild', 'normal', 'weak', 'yes'],\n",
       " ['sunny', 'mild', 'normal', 'strong', 'yes'],\n",
       " ['overcast', 'mild', 'high', 'strong', 'yes'],\n",
       " ['overcast', 'hot', 'normal', 'weak', 'yes'],\n",
       " ['rain', 'mild', 'high', 'strong', 'no']]"
      ]
     },
     "execution_count": 20,
     "metadata": {},
     "output_type": "execute_result"
    }
   ],
   "source": [
    "attributes = [['sunny','rain','overcast'],\n",
    "              ['cool','mild','hot'],\n",
    "              ['normal','high'],\n",
    "              ['strong','weak']]\n",
    "print(len(a))\n",
    "num_attributes = len(attributes)\n",
    "print(num_attributes)\n",
    "a\n"
   ]
  },
  {
   "cell_type": "markdown",
   "metadata": {},
   "source": [
    "## Transforma los valores categóricos a numéricas\n",
    "\n",
    "Se utiliza para eso LabelEncoder, declarando un encoder para cada varoiable categórica, pudiendo en cualquier momento\n",
    "recuperar el valor originalde cada una.\n",
    "https://scikit-learn.org/stable/modules/generated/sklearn.preprocessing.LabelEncoder.html\n",
    "Por ejemplo el valor sunny se codifica con un 2"
   ]
  },
  {
   "cell_type": "code",
   "execution_count": 21,
   "metadata": {},
   "outputs": [],
   "source": [
    "c=[]\n",
    "cj=[]\n",
    "y=[]\n",
    "le1 = preprocessing.LabelEncoder()\n",
    "le2 = preprocessing.LabelEncoder()\n",
    "le3 = preprocessing.LabelEncoder()\n",
    "le4 = preprocessing.LabelEncoder()\n",
    "le1.fit(attributes[0])\n",
    "le2.fit(attributes[1])\n",
    "le3.fit(attributes[2])\n",
    "le4.fit(attributes[3])\n",
    "le=[le1, le2, le3, le4]\n",
    "for i in range(0,len(a)):\n",
    "    y.append(a[i][num_attributes])\n",
    "    c1=le1.transform(a[i][0:1])[0]\n",
    "    c2=le2.transform(a[i][1:2])[0]\n",
    "    c3=le3.transform(a[i][2:3])[0]\n",
    "    c4=le4.transform(a[i][3:4])[0]\n",
    "    c.append([c1,c2, c3, c4])\n"
   ]
  },
  {
   "cell_type": "markdown",
   "metadata": {},
   "source": [
    "En c queda la lista transformda, que se convierte a un data frame de pandas para utilizar como input\n",
    "de train_test_split"
   ]
  },
  {
   "cell_type": "code",
   "execution_count": 22,
   "metadata": {},
   "outputs": [
    {
     "name": "stdout",
     "output_type": "stream",
     "text": [
      "    0  1  2  3\n",
      "0   2  1  0  1\n",
      "1   2  1  0  0\n",
      "2   0  1  0  1\n",
      "3   1  2  0  1\n",
      "4   1  0  1  1\n",
      "5   1  0  1  0\n",
      "6   0  0  1  0\n",
      "7   2  2  0  1\n",
      "8   2  0  1  1\n",
      "9   1  2  1  1\n",
      "10  2  2  1  0\n",
      "11  0  2  0  0\n",
      "12  0  1  1  1\n",
      "13  1  2  0  0\n"
     ]
    },
    {
     "data": {
      "text/plain": [
       "['no',\n",
       " 'no',\n",
       " 'yes',\n",
       " 'yes',\n",
       " 'yes',\n",
       " 'no',\n",
       " 'yes',\n",
       " 'no',\n",
       " 'yes',\n",
       " 'yes',\n",
       " 'yes',\n",
       " 'yes',\n",
       " 'yes',\n",
       " 'no']"
      ]
     },
     "execution_count": 22,
     "metadata": {},
     "output_type": "execute_result"
    }
   ],
   "source": [
    "df=pd.DataFrame(c)\n",
    "print(df)\n",
    "y\n"
   ]
  },
  {
   "cell_type": "markdown",
   "metadata": {},
   "source": [
    "Se particiona en train y test (train_X tiene los valores de los atributos y train_y los valores de las respuestas \n",
    "correspondientes, lo mismo para test)\n",
    "https://scikit-learn.org/stable/modules/generated/sklearn.model_selection.train_test_split.html"
   ]
  },
  {
   "cell_type": "code",
   "execution_count": 24,
   "metadata": {},
   "outputs": [],
   "source": [
    "train_X, test_X, train_y, test_y = train_test_split(df, y, \n",
    "                                                    train_size=0.7,\n",
    "                                                    test_size=0.3,\n",
    "                                                    random_state=123)"
   ]
  },
  {
   "cell_type": "markdown",
   "metadata": {},
   "source": [
    "Se construye el modelo utilziando DecisionTreeClassifier\n",
    "https://scikit-learn.org/stable/modules/generated/sklearn.tree.DecisionTreeClassifier.html\n",
    "y con fit se ajusta este modelo al conjunto de entrenamiento (atributos y respuestas)\n",
    "Se muestran los parámetros por defecto, pero se pueden modificar cualquiera de ellos como se muestra con max_leaf_nodes=10"
   ]
  },
  {
   "cell_type": "code",
   "execution_count": 41,
   "metadata": {},
   "outputs": [
    {
     "data": {
      "text/plain": [
       "DecisionTreeClassifier(class_weight=None, criterion='gini', max_depth=3,\n",
       "            max_features=None, max_leaf_nodes=None,\n",
       "            min_impurity_decrease=0.0, min_impurity_split=None,\n",
       "            min_samples_leaf=1, min_samples_split=3,\n",
       "            min_weight_fraction_leaf=0.0, presort=False, random_state=None,\n",
       "            splitter='best')"
      ]
     },
     "execution_count": 41,
     "metadata": {},
     "output_type": "execute_result"
    }
   ],
   "source": [
    "dtree=DecisionTreeClassifier(max_depth=3, min_samples_split=3)\n",
    "dtree.fit(train_X, train_y)"
   ]
  },
  {
   "cell_type": "markdown",
   "metadata": {},
   "source": [
    "Con prediction calculo mi modelo con el conjunto de test de manera de medir qué el comportamkiento sonbre este conjunto"
   ]
  },
  {
   "cell_type": "code",
   "execution_count": 37,
   "metadata": {},
   "outputs": [],
   "source": [
    "predictions=dtree.predict(test_X)"
   ]
  },
  {
   "cell_type": "markdown",
   "metadata": {},
   "source": [
    "Y posteriormente con accuracy veo la bondad de ajuste sobre el test\n",
    "https://scikit-learn.org/stable/modules/generated/sklearn.metrics.accuracy_score.html"
   ]
  },
  {
   "cell_type": "code",
   "execution_count": 38,
   "metadata": {},
   "outputs": [
    {
     "data": {
      "text/plain": [
       "0.4"
      ]
     },
     "execution_count": 38,
     "metadata": {},
     "output_type": "execute_result"
    }
   ],
   "source": [
    "acc=accuracy_score(test_y, predictions)\n",
    "acc"
   ]
  },
  {
   "cell_type": "markdown",
   "metadata": {},
   "source": [
    "Lo mismo para la matriz de confusón\n",
    "https://scikit-learn.org/stable/modules/generated/sklearn.metrics.confusion_matrix.html"
   ]
  },
  {
   "cell_type": "code",
   "execution_count": 39,
   "metadata": {},
   "outputs": [
    {
     "data": {
      "text/plain": [
       "array([[1, 2],\n",
       "       [1, 1]], dtype=int64)"
      ]
     },
     "execution_count": 39,
     "metadata": {},
     "output_type": "execute_result"
    }
   ],
   "source": [
    "confusion_matrix(test_y, predictions)\n"
   ]
  },
  {
   "cell_type": "markdown",
   "metadata": {},
   "source": [
    "Se grafica el árbol con graphviz"
   ]
  },
  {
   "cell_type": "code",
   "execution_count": 42,
   "metadata": {},
   "outputs": [
    {
     "data": {
      "image/png": "[encoded data removed]",
      "text/plain": [
       "<IPython.core.display.Image object>"
      ]
     },
     "execution_count": 42,
     "metadata": {},
     "output_type": "execute_result"
    }
   ],
   "source": [
    "dot_data = StringIO()\n",
    "export_graphviz(dtree, out_file=dot_data,  \n",
    "                filled=True, rounded=True,\n",
    "                special_characters=True)\n",
    "graph = pydotplus.graph_from_dot_data(dot_data.getvalue())  \n",
    "Image(graph.create_png())"
   ]
  },
  {
   "cell_type": "markdown",
   "metadata": {},
   "source": [
    "Por útltimo se arma la curva ROC\n",
    "\n",
    "https://scikit-learn.org/stable/modules/generated/sklearn.metrics.roc_curve.html\n",
    "\n",
    "Para eso se trasnforma primero tanto 'y' como la salida del modelos con el mismo encoder a valores numéricos y luego se ejecuta roc_curve que deuelve los valores para fpry tpr con los cuales peude ser graficada la curva."
   ]
  },
  {
   "cell_type": "code",
   "execution_count": 43,
   "metadata": {},
   "outputs": [
    {
     "name": "stdout",
     "output_type": "stream",
     "text": [
      "[2 1 0]\n",
      "[0.         0.66666667 1.        ]\n",
      "[0.  0.5 1. ]\n"
     ]
    }
   ],
   "source": [
    "ley = preprocessing.LabelEncoder()\n",
    "ley.fit(y)\n",
    "auc=roc_auc_score(ley.transform(test_y), ley.transform(predictions))\n",
    "\n",
    "fpr, tpr, thresholds = roc_curve(ley.transform(test_y), ley.transform(predictions))\n",
    "\n",
    "print(thresholds)\n",
    "print(fpr)\n",
    "print(tpr)"
   ]
  },
  {
   "cell_type": "markdown",
   "metadata": {},
   "source": [
    "Gráfico de la ROC anterior"
   ]
  },
  {
   "cell_type": "code",
   "execution_count": 12,
   "metadata": {},
   "outputs": [
    {
     "data": {
      "image/png": "[encoded data removed]",
      "text/plain": [
       "<Figure size 432x288 with 1 Axes>"
      ]
     },
     "metadata": {},
     "output_type": "display_data"
    }
   ],
   "source": [
    "plt.plot(tpr, fpr)\n",
    "plt.xlabel('False positive Rate')\n",
    "plt.ylabel('True Positive Rate')\n",
    "plt.title('Receiver operating characteristic example')\n",
    "plt.show()"
   ]
  },
  {
   "cell_type": "markdown",
   "metadata": {},
   "source": [
    "# ANEXOS\n",
    "\n",
    "## Usa cross validation y obtiene el accuracy promedio \n",
    "https://scikit-learn.org/stable/modules/cross_validation.html\n"
   ]
  },
  {
   "cell_type": "code",
   "execution_count": 34,
   "metadata": {},
   "outputs": [
    {
     "data": {
      "text/plain": [
       "array([0, 0, 1, 1, 1, 0, 1, 0, 1, 1, 1, 1, 1, 0])"
      ]
     },
     "execution_count": 34,
     "metadata": {},
     "output_type": "execute_result"
    }
   ],
   "source": [
    "from sklearn import preprocessing\n",
    "import numpy as np;\n",
    "#lb = preprocessing.LabelBinarizer()\n",
    "#lb.fit(y)\n",
    "\n",
    "lb = preprocessing.LabelBinarizer()\n",
    "y2 = np.array([number[0] for number in lb.fit_transform(y)])\n",
    "y2"
   ]
  },
  {
   "cell_type": "code",
   "execution_count": 35,
   "metadata": {},
   "outputs": [
    {
     "data": {
      "text/plain": [
       "0.9"
      ]
     },
     "execution_count": 35,
     "metadata": {},
     "output_type": "execute_result"
    }
   ],
   "source": [
    "from sklearn.model_selection import cross_val_score\n",
    "\n",
    "clf=DecisionTreeClassifier(max_leaf_nodes=10)\n",
    "scores = cross_val_score(clf, df, y2, cv=5, scoring='roc_auc')\n",
    "scores.mean()"
   ]
  },
  {
   "cell_type": "markdown",
   "metadata": {},
   "source": [
    "## Obtiene utilizando optimización basada en búsqueda exhaustiva sobre los hiperparámetros de manera de devolver los que mejor se ajustan\n",
    "\n",
    "https://scikit-learn.org/stable/modules/generated/sklearn.model_selection.GridSearchCV.html\n",
    "\n",
    "En este caso evalúa el parámetros max_depth desde 3 a 20"
   ]
  },
  {
   "cell_type": "code",
   "execution_count": 46,
   "metadata": {},
   "outputs": [
    {
     "name": "stdout",
     "output_type": "stream",
     "text": [
      "0.8571428571428571 {'max_depth': 7}\n"
     ]
    }
   ],
   "source": [
    "from sklearn.model_selection import GridSearchCV\n",
    "\n",
    "parameters = {'max_depth':range(3,20)}\n",
    "clf = GridSearchCV(DecisionTreeClassifier(), parameters, n_jobs=10, scoring='accuracy')\n",
    "clf.fit(X=df, y=y)\n",
    "tree_model = clf.best_estimator_\n",
    "print (clf.best_score_, clf.best_params_)\n"
   ]
  },
  {
   "cell_type": "markdown",
   "metadata": {},
   "source": [
    "## Imputa valores nulos\n",
    "\n",
    "En el ejemplo se pone un valor nulo NaN, y se imputa con el más frecuente"
   ]
  },
  {
   "cell_type": "code",
   "execution_count": 47,
   "metadata": {},
   "outputs": [
    {
     "name": "stdout",
     "output_type": "stream",
     "text": [
      "    0  1    2  3\n",
      "0   2  1  0.0  1\n",
      "1   2  1  0.0  0\n",
      "2   0  1  NaN  1\n",
      "3   1  2  0.0  1\n",
      "4   1  0  1.0  1\n",
      "5   1  0  1.0  0\n",
      "6   0  0  1.0  0\n",
      "7   2  2  0.0  1\n",
      "8   2  0  1.0  1\n",
      "9   1  2  1.0  1\n",
      "10  2  2  1.0  0\n",
      "11  0  2  0.0  0\n",
      "12  0  1  1.0  1\n",
      "13  1  2  0.0  0\n"
     ]
    },
    {
     "data": {
      "text/html": [
       "<div>\n",
       "<style scoped>\n",
       "    .dataframe tbody tr th:only-of-type {\n",
       "        vertical-align: middle;\n",
       "    }\n",
       "\n",
       "    .dataframe tbody tr th {\n",
       "        vertical-align: top;\n",
       "    }\n",
       "\n",
       "    .dataframe thead th {\n",
       "        text-align: right;\n",
       "    }\n",
       "</style>\n",
       "<table border=\"1\" class=\"dataframe\">\n",
       "  <thead>\n",
       "    <tr style=\"text-align: right;\">\n",
       "      <th></th>\n",
       "      <th>0</th>\n",
       "      <th>1</th>\n",
       "      <th>2</th>\n",
       "      <th>3</th>\n",
       "    </tr>\n",
       "  </thead>\n",
       "  <tbody>\n",
       "    <tr>\n",
       "      <th>0</th>\n",
       "      <td>2.0</td>\n",
       "      <td>1.0</td>\n",
       "      <td>0.0</td>\n",
       "      <td>1.0</td>\n",
       "    </tr>\n",
       "    <tr>\n",
       "      <th>1</th>\n",
       "      <td>2.0</td>\n",
       "      <td>1.0</td>\n",
       "      <td>0.0</td>\n",
       "      <td>0.0</td>\n",
       "    </tr>\n",
       "    <tr>\n",
       "      <th>2</th>\n",
       "      <td>0.0</td>\n",
       "      <td>1.0</td>\n",
       "      <td>1.0</td>\n",
       "      <td>1.0</td>\n",
       "    </tr>\n",
       "    <tr>\n",
       "      <th>3</th>\n",
       "      <td>1.0</td>\n",
       "      <td>2.0</td>\n",
       "      <td>0.0</td>\n",
       "      <td>1.0</td>\n",
       "    </tr>\n",
       "    <tr>\n",
       "      <th>4</th>\n",
       "      <td>1.0</td>\n",
       "      <td>0.0</td>\n",
       "      <td>1.0</td>\n",
       "      <td>1.0</td>\n",
       "    </tr>\n",
       "    <tr>\n",
       "      <th>5</th>\n",
       "      <td>1.0</td>\n",
       "      <td>0.0</td>\n",
       "      <td>1.0</td>\n",
       "      <td>0.0</td>\n",
       "    </tr>\n",
       "    <tr>\n",
       "      <th>6</th>\n",
       "      <td>0.0</td>\n",
       "      <td>0.0</td>\n",
       "      <td>1.0</td>\n",
       "      <td>0.0</td>\n",
       "    </tr>\n",
       "    <tr>\n",
       "      <th>7</th>\n",
       "      <td>2.0</td>\n",
       "      <td>2.0</td>\n",
       "      <td>0.0</td>\n",
       "      <td>1.0</td>\n",
       "    </tr>\n",
       "    <tr>\n",
       "      <th>8</th>\n",
       "      <td>2.0</td>\n",
       "      <td>0.0</td>\n",
       "      <td>1.0</td>\n",
       "      <td>1.0</td>\n",
       "    </tr>\n",
       "    <tr>\n",
       "      <th>9</th>\n",
       "      <td>1.0</td>\n",
       "      <td>2.0</td>\n",
       "      <td>1.0</td>\n",
       "      <td>1.0</td>\n",
       "    </tr>\n",
       "    <tr>\n",
       "      <th>10</th>\n",
       "      <td>2.0</td>\n",
       "      <td>2.0</td>\n",
       "      <td>1.0</td>\n",
       "      <td>0.0</td>\n",
       "    </tr>\n",
       "    <tr>\n",
       "      <th>11</th>\n",
       "      <td>0.0</td>\n",
       "      <td>2.0</td>\n",
       "      <td>0.0</td>\n",
       "      <td>0.0</td>\n",
       "    </tr>\n",
       "    <tr>\n",
       "      <th>12</th>\n",
       "      <td>0.0</td>\n",
       "      <td>1.0</td>\n",
       "      <td>1.0</td>\n",
       "      <td>1.0</td>\n",
       "    </tr>\n",
       "    <tr>\n",
       "      <th>13</th>\n",
       "      <td>1.0</td>\n",
       "      <td>2.0</td>\n",
       "      <td>0.0</td>\n",
       "      <td>0.0</td>\n",
       "    </tr>\n",
       "  </tbody>\n",
       "</table>\n",
       "</div>"
      ],
      "text/plain": [
       "      0    1    2    3\n",
       "0   2.0  1.0  0.0  1.0\n",
       "1   2.0  1.0  0.0  0.0\n",
       "2   0.0  1.0  1.0  1.0\n",
       "3   1.0  2.0  0.0  1.0\n",
       "4   1.0  0.0  1.0  1.0\n",
       "5   1.0  0.0  1.0  0.0\n",
       "6   0.0  0.0  1.0  0.0\n",
       "7   2.0  2.0  0.0  1.0\n",
       "8   2.0  0.0  1.0  1.0\n",
       "9   1.0  2.0  1.0  1.0\n",
       "10  2.0  2.0  1.0  0.0\n",
       "11  0.0  2.0  0.0  0.0\n",
       "12  0.0  1.0  1.0  1.0\n",
       "13  1.0  2.0  0.0  0.0"
      ]
     },
     "execution_count": 47,
     "metadata": {},
     "output_type": "execute_result"
    }
   ],
   "source": [
    "from sklearn import preprocessing\n",
    "import numpy as np\n",
    "from sklearn.preprocessing import Imputer\n",
    "c[2][2]=np.nan\n",
    "df=pd.DataFrame(c)\n",
    "print(df)\n",
    "imputer=Imputer(missing_values='NaN', strategy='most_frequent')\n",
    "transformed_values = imputer.fit_transform(df.values)\n",
    "df=pd.DataFrame(transformed_values )\n",
    "df"
   ]
  },
  {
   "cell_type": "code",
   "execution_count": 48,
   "metadata": {},
   "outputs": [
    {
     "ename": "NameError",
     "evalue": "name 'y_pred' is not defined",
     "output_type": "error",
     "traceback": [
      "\u001b[1;31m---------------------------------------------------------------------------\u001b[0m",
      "\u001b[1;31mNameError\u001b[0m                                 Traceback (most recent call last)",
      "\u001b[1;32m<ipython-input-48-d0981c41aa2a>\u001b[0m in \u001b[0;36m<module>\u001b[1;34m()\u001b[0m\n\u001b[0;32m      1\u001b[0m \u001b[1;32mfrom\u001b[0m \u001b[0msklearn\u001b[0m\u001b[1;33m.\u001b[0m\u001b[0mnaive_bayes\u001b[0m \u001b[1;32mimport\u001b[0m \u001b[0mGaussianNB\u001b[0m\u001b[1;33m\u001b[0m\u001b[0m\n\u001b[0;32m      2\u001b[0m \u001b[0mgnb\u001b[0m \u001b[1;33m=\u001b[0m \u001b[0mGaussianNB\u001b[0m\u001b[1;33m(\u001b[0m\u001b[1;33m)\u001b[0m\u001b[1;33m\u001b[0m\u001b[0m\n\u001b[1;32m----> 3\u001b[1;33m \u001b[0mprint\u001b[0m\u001b[1;33m(\u001b[0m\u001b[0mdf\u001b[0m\u001b[1;33m[\u001b[0m\u001b[1;36m0\u001b[0m\u001b[1;33m]\u001b[0m\u001b[1;33m,\u001b[0m\u001b[1;33m(\u001b[0m\u001b[0my\u001b[0m \u001b[1;33m!=\u001b[0m \u001b[0my_pred\u001b[0m\u001b[1;33m)\u001b[0m\u001b[1;33m.\u001b[0m\u001b[0msum\u001b[0m\u001b[1;33m(\u001b[0m\u001b[1;33m)\u001b[0m\u001b[1;33m)\u001b[0m\u001b[1;33m\u001b[0m\u001b[0m\n\u001b[0m",
      "\u001b[1;31mNameError\u001b[0m: name 'y_pred' is not defined"
     ]
    }
   ],
   "source": [
    "from sklearn.naive_bayes import GaussianNB\n",
    "gnb = GaussianNB()\n",
    "print(df[0],(y != y_pred).sum())"
   ]
  },
  {
   "cell_type": "code",
   "execution_count": null,
   "metadata": {},
   "outputs": [],
   "source": []
  }
 ],
 "metadata": {
  "kernelspec": {
   "display_name": "Python 3",
   "language": "python",
   "name": "python3"
  },
  "language_info": {
   "codemirror_mode": {
    "name": "ipython",
    "version": 3
   },
   "file_extension": ".py",
   "mimetype": "text/x-python",
   "name": "python",
   "nbconvert_exporter": "python",
   "pygments_lexer": "ipython3",
   "version": "3.6.5"
  }
 },
 "nbformat": 4,
 "nbformat_minor": 2
}
