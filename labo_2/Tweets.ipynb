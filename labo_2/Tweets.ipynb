{
 "cells": [
  {
   "cell_type": "code",
   "execution_count": 3,
   "metadata": {},
   "outputs": [
    {
     "ename": "SyntaxError",
     "evalue": "invalid syntax (<ipython-input-3-80ffdfed1d0c>, line 12)",
     "output_type": "error",
     "traceback": [
      "\u001b[0;36m  File \u001b[0;32m\"<ipython-input-3-80ffdfed1d0c>\"\u001b[0;36m, line \u001b[0;32m12\u001b[0m\n\u001b[0;31m    tweets.text <- sapply(mm, function(x) getText())\u001b[0m\n\u001b[0m                                                ^\u001b[0m\n\u001b[0;31mSyntaxError\u001b[0m\u001b[0;31m:\u001b[0m invalid syntax\n"
     ]
    }
   ],
   "source": [
    "library(\"twitteR\")\n",
    "library(\"ROAuth\")\n",
    "setup_twitter_oauth(\"\", \"\",                    \"\", \"\")\n",
    "mm<-userTimeline('mauriciomacri', n=100)\n",
    "niunamenos <- searchTwitter(\"#niunamenos exclude:retweets\", n=100)\n",
    "mm.df <- twListToDF(mm)\n",
    "mm.df[1,1]\n",
    "\n",
    "searchTwitter('mauriciomacri', since='2019-01-01', until='2019-04-01')\n",
    "\n",
    "mm<-userTimeline('CFKArgentina', n=100)\n",
    "tweets.text <- sapply(mm, function(x) x$getText())\n",
    "\n",
    "# Replace blank space (“rt”)\n",
    "tweets.text <- gsub(\"rt\", \"\", tweets.text)\n",
    "# Replace @UserName\n",
    "tweets.text <- gsub(\"@\\\\w+\", \"\", tweets.text)\n",
    "# Remove punctuation\n",
    "tweets.text <- gsub(\"[[:punct:]]\", \"\", tweets.text)\n",
    "# Remove links\n",
    "tweets.text <- gsub(\"http\\\\w+\", \"\", tweets.text)\n",
    "# Remove tabs\n",
    "tweets.text <- gsub(\"[ |\\t]{2,}\", \"\", tweets.text)\n",
    "# Remove blank spaces at the beginning\n",
    "tweets.text <- gsub(\"^ \", \"\", tweets.text)\n",
    "# Remove blank spaces at the end\n",
    "tweets.text <- gsub(\" $\", \"\", tweets.text)\n",
    "\n",
    "# #convert all text to lower case\n",
    "tweets.text <- tolower(tweets.text)\n",
    "\n",
    "library(RColorBrewer)\n",
    "library(wordcloud)\n",
    "library(NLP)\n",
    "library(tm)\n",
    "\n",
    "tweets.text.corpus<-Corpus(VectorSource(tweets.text))\n",
    "tweets.text.corpus <- tm_map(tweets.text.corpus, function(x) removeWords(x,stopwords(\"Spanish\")))\n",
    "\n",
    "wordcloud(tweets.text.corpus,min.freq = 2, scale=c(7,0.5),colors=brewer.pal(8, \"Dark2\"),  random.color= TRUE, random.order = FALSE, max.words = 100)"
   ]
  }
 ],
 "metadata": {
  "kernelspec": {
   "display_name": "Python [conda env:BayesP3]",
   "language": "python",
   "name": "conda-env-BayesP3-py"
  },
  "language_info": {
   "codemirror_mode": {
    "name": "ipython",
    "version": 3
   },
   "file_extension": ".py",
   "mimetype": "text/x-python",
   "name": "python",
   "nbconvert_exporter": "python",
   "pygments_lexer": "ipython3",
   "version": "3.6.6"
  }
 },
 "nbformat": 4,
 "nbformat_minor": 2
}
