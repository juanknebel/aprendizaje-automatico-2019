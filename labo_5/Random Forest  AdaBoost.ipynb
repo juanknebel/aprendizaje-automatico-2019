{
 "cells": [
  {
   "cell_type": "code",
   "execution_count": 1,
   "metadata": {
    "collapsed": true
   },
   "outputs": [],
   "source": [
    "from sklearn.ensemble import RandomForestClassifier\n",
    "from sklearn.ensemble import AdaBoostClassifier\n",
    "from sklearn.datasets import make_classification\n"
   ]
  },
  {
   "cell_type": "code",
   "execution_count": 2,
   "metadata": {},
   "outputs": [
    {
     "data": {
      "text/plain": [
       "array([[-1.66853167, -1.29901346,  0.2746472 , -0.60362044],\n",
       "       [-2.9728827 , -1.08878294,  0.70885958,  0.42281857],\n",
       "       [-0.59614125, -1.37007001, -3.11685659,  0.64445203],\n",
       "       ...,\n",
       "       [ 0.91711204,  1.10596645,  0.86766522, -2.25625012],\n",
       "       [ 0.10027664,  1.45875846, -0.44360274, -0.67002328],\n",
       "       [ 1.0415229 , -0.01987143,  0.15216419, -1.9405334 ]])"
      ]
     },
     "execution_count": 2,
     "metadata": {},
     "output_type": "execute_result"
    }
   ],
   "source": [
    "X, y = make_classification(n_samples=1000, n_features=4,n_informative=2, n_redundant=0, random_state=0, shuffle=False)\n",
    "X"
   ]
  },
  {
   "cell_type": "code",
   "execution_count": 4,
   "metadata": {},
   "outputs": [
    {
     "name": "stdout",
     "output_type": "stream",
     "text": [
      "[1]\n"
     ]
    }
   ],
   "source": [
    "clf_rf = RandomForestClassifier(n_estimators=100, max_depth=2, random_state=0)\n",
    "clf_rf.fit(X, y)  \n",
    "print(clf_rf.predict([[0, 5, 0, 1]]))\n"
   ]
  },
  {
   "cell_type": "code",
   "execution_count": 5,
   "metadata": {},
   "outputs": [
    {
     "name": "stdout",
     "output_type": "stream",
     "text": [
      "[0.14205973 0.76664038 0.0282433  0.06305659]\n"
     ]
    }
   ],
   "source": [
    "print(clf_rf.feature_importances_)"
   ]
  },
  {
   "cell_type": "code",
   "execution_count": 6,
   "metadata": {},
   "outputs": [
    {
     "name": "stdout",
     "output_type": "stream",
     "text": [
      "precision de Random Forest 0.946\n"
     ]
    }
   ],
   "source": [
    "accuracy_rf = sum(clf_rf.predict(X) == y)/len(y)\n",
    "accuracy_rf\n",
    "print(\"precision de Random Forest \" + str(accuracy_rf))"
   ]
  },
  {
   "cell_type": "code",
   "execution_count": 7,
   "metadata": {},
   "outputs": [
    {
     "name": "stdout",
     "output_type": "stream",
     "text": [
      "[1]\n"
     ]
    }
   ],
   "source": [
    "clf_ada = AdaBoostClassifier(n_estimators=100, random_state=0)\n",
    "clf_ada.fit(X,y)\n",
    "print(clf_ada.predict([[0, 5, 0, 1]]))\n"
   ]
  },
  {
   "cell_type": "code",
   "execution_count": null,
   "metadata": {
    "collapsed": true
   },
   "outputs": [],
   "source": [
    "xaccuracy_ada = sum(clf_ada.predict(X) == y)/len(y)\n",
    "print(\"precision de adaboost \" + str(accuracy_ada))"
   ]
  }
 ],
 "metadata": {
  "anaconda-cloud": {},
  "kernelspec": {
   "display_name": "Python 3",
   "language": "python",
   "name": "python3"
  },
  "language_info": {
   "codemirror_mode": {
    "name": "ipython",
    "version": 3
   },
   "file_extension": ".py",
   "mimetype": "text/x-python",
   "name": "python",
   "nbconvert_exporter": "python",
   "pygments_lexer": "ipython3",
   "version": "3.7.3"
  }
 },
 "nbformat": 4,
 "nbformat_minor": 2
}
