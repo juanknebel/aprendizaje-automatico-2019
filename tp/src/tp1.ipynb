{
 "cells": [
  {
   "cell_type": "markdown",
   "metadata": {},
   "source": [
    "# Trabajo Práctico - Aprendizaje Automático 2019 - Comisión 1"
   ]
  },
  {
   "cell_type": "markdown",
   "metadata": {},
   "source": [
    "## Importación de las librería necesarias\n",
    "\n",
    "* sklearn: https://scikit-learn.org/stable/ Machine Learning in Python\n",
    "* pandas: https://pandas.pydata.org/ Python Data Analysis Library\n",
    "* csv: https://realpython.com/python-csv/ Reading and Writing CSV Files in Python\n",
    "* pydotplus: https://pypi.org/project/pydotplus/ Python Interface to Graphviz’s Dot language\n",
    "    Se debe instalar https://www.graphviz.org/ y actualizar Anaconda\n",
    "* matplotlib: https://matplotlib.org/  Python 2D plotting library\n"
   ]
  },
  {
   "cell_type": "code",
   "execution_count": 1,
   "metadata": {},
   "outputs": [],
   "source": [
    "import sklearn.datasets as datasets\n",
    "import pandas as pd\n",
    "import random\n",
    "import csv\n",
    "from sklearn import preprocessing\n",
    "from sklearn.model_selection import train_test_split\n",
    "from sklearn.tree import DecisionTreeClassifier\n",
    "from sklearn.metrics import accuracy_score\n",
    "from sklearn.metrics import jaccard_similarity_score\n",
    "from sklearn.metrics import confusion_matrix\n",
    "from sklearn.externals.six import StringIO  \n",
    "from IPython.display import Image  \n",
    "from sklearn.tree import export_graphviz\n",
    "import pydotplus\n",
    "from sklearn.metrics import roc_auc_score\n",
    "from sklearn.metrics import roc_curve\n",
    "import matplotlib.pyplot as plt\n",
    "from sklearn.model_selection import ShuffleSplit\n",
    "import numpy as np\n",
    "from sklearn.naive_bayes import GaussianNB"
   ]
  },
  {
   "cell_type": "markdown",
   "metadata": {},
   "source": [
    "## Leer archivo csv (newdata.csv)\n",
    "\n",
    "Recorre todas las filas del archivo csvfile y lo deja en lista a, en donde cada fila es una lista "
   ]
  },
  {
   "cell_type": "code",
   "execution_count": 2,
   "metadata": {},
   "outputs": [
    {
     "name": "stdout",
     "output_type": "stream",
     "text": [
      "Cantidad de Elementos:  2770\n",
      "Cantidad de Columnas a traducir:  8\n"
     ]
    }
   ],
   "source": [
    "data_full = []\n",
    "attributes_location=set()\n",
    "attributes_description=set()\n",
    "attributes_url=set()\n",
    "attributes_verified=set()\n",
    "attributes_lan=set()\n",
    "attributes_default_profile=set()\n",
    "attributes_default_profile_image=set()\n",
    "attributes_has_extended_profile=set()\n",
    "attributes_full=[]\n",
    "\n",
    "with open('../data/newdata.csv','r') as csv_file:\n",
    "    reader = csv.reader(csv_file)\n",
    "    headers = next(reader,None)\n",
    "    for row in reader:\n",
    "        data_full.append (row)\n",
    "        attributes_location.add(row[0])\n",
    "        attributes_description.add(row[1])\n",
    "        attributes_url.add(row[2])\n",
    "        attributes_verified.add(row[8])\n",
    "        attributes_lan.add(row[10])\n",
    "        attributes_default_profile.add(row[11])\n",
    "        attributes_default_profile_image.add(row[12])\n",
    "        attributes_has_extended_profile.add(row[13])\n",
    "        \n",
    "attributes_full.append(list(attributes_location))\n",
    "attributes_full.append(list(attributes_description))\n",
    "attributes_full.append(list(attributes_url))\n",
    "attributes_full.append(list(attributes_verified))\n",
    "attributes_full.append(list(attributes_lan))\n",
    "attributes_full.append(list(attributes_default_profile))\n",
    "attributes_full.append(list(attributes_default_profile_image))\n",
    "attributes_full.append(list(attributes_has_extended_profile))\n",
    "\n",
    "\n",
    "print(\"Cantidad de Elementos: \",len(data_full))\n",
    "print(\"Cantidad de Columnas a traducir: \",len(attributes_full))"
   ]
  },
  {
   "cell_type": "markdown",
   "metadata": {},
   "source": [
    "## Mapeo de categoricos\n",
    "\n",
    "En la matriz ``` data_labeled ``` quedan los datos de entrenamiento.\n",
    "\n",
    "El array ```y_vector_class ``` representa la clase a la que pertenece cada fila del array."
   ]
  },
  {
   "cell_type": "code",
   "execution_count": 3,
   "metadata": {},
   "outputs": [],
   "source": [
    "def process_to_category(data_raw, attributes_to_category):\n",
    "    num_attributes=len(attributes_full)\n",
    "    y_vector_class=[]\n",
    "    data_labeled=[]\n",
    "\n",
    "    le1 = preprocessing.LabelEncoder()\n",
    "    le2 = preprocessing.LabelEncoder()\n",
    "    le3 = preprocessing.LabelEncoder()\n",
    "    le4 = preprocessing.LabelEncoder()\n",
    "    le5 = preprocessing.LabelEncoder()\n",
    "    le6 = preprocessing.LabelEncoder()\n",
    "    le7 = preprocessing.LabelEncoder()\n",
    "    le8 = preprocessing.LabelEncoder()\n",
    "    le1.fit(attributes_full[0])\n",
    "    le2.fit(attributes_full[1])\n",
    "    le3.fit(attributes_full[2])\n",
    "    le4.fit(attributes_full[3])\n",
    "    le5.fit(attributes_full[4])\n",
    "    le6.fit(attributes_full[5])\n",
    "    le7.fit(attributes_full[6])\n",
    "    le8.fit(attributes_full[7])\n",
    "\n",
    "    for i in range(0,len(data_raw)):\n",
    "        c0=le1.transform(data_raw[i][0:1])[0]\n",
    "        c1=le2.transform(data_raw[i][1:2])[0]\n",
    "        c2=le3.transform(data_raw[i][2:3])[0]\n",
    "        c3=data_raw[i][3:4][0]\n",
    "        c4=data_raw[i][4:5][0]\n",
    "        c5=data_raw[i][5:6][0]\n",
    "        c6=data_raw[i][6:7][0]\n",
    "        c7=data_raw[i][7:8][0]\n",
    "        c8=le4.transform(data_raw[i][8:9])[0]\n",
    "        c9=data_raw[i][9:10][0]\n",
    "        c10=le5.transform(data_raw[i][10:11])[0]\n",
    "        c11=le6.transform(data_raw[i][11:12])[0]\n",
    "        c12=le7.transform(data_raw[i][12:13])[0]\n",
    "        c13=le8.transform(data_raw[i][13:14])[0]\n",
    "        # Hay que armar C no solo con los traducibles sino tambien con los numericos.\n",
    "        data_labeled.append([c1, c2, c3, c4, c5, c6, c7, c8, c9, c10, c11, c12, c13])\n",
    "\n",
    "    # Separo la ultima columna como vector de resultado.\n",
    "    for i in range(0,len(data_raw)):\n",
    "        y_vector_class.append(data_raw[i][len(data_raw[1])-1])\n",
    "    \n",
    "    return data_labeled, y_vector_class"
   ]
  },
  {
   "cell_type": "markdown",
   "metadata": {},
   "source": [
    "## Separación en conjuntos de entrenamiento y test\n",
    "\n",
    "``` original_train_x, original_train_y ``` contienen el conjunto principal de los datos de entrenamiento.\n",
    "\n",
    "``` test_X, test_Y ``` son los datos de test que no se van a utilizar hasta el final, para calcular el accuracy de los algoritmos."
   ]
  },
  {
   "cell_type": "code",
   "execution_count": 4,
   "metadata": {},
   "outputs": [
    {
     "name": "stdout",
     "output_type": "stream",
     "text": [
      "train_X:  1938\n",
      "train_y:  1938\n",
      "test_y:  831\n",
      "test_X:  831\n",
      "------------------------\n",
      "train_X:  1550\n",
      "train_y:  1550\n",
      "validate_X:  388\n",
      "validate_y:  388\n"
     ]
    }
   ],
   "source": [
    "data_labeled, y_vector_class = process_to_category(data_raw=data_full, attributes_to_category=attributes_full)\n",
    "\n",
    "# Se separan los datos en dataFrame\n",
    "# Creo el Data Frame para comenzar a separar en conjuntos de datos\n",
    "dataFrame=pd.DataFrame(data_labeled)\n",
    "\n",
    "original_train_X, test_X, original_train_y, test_y = train_test_split(dataFrame, y_vector_class, \n",
    "                                                   train_size=0.7,\n",
    "                                                   test_size=0.3,\n",
    "                                                   random_state=123)\n",
    "\n",
    "print(\"train_X: \" , len(original_train_X))\n",
    "print(\"train_y: \" ,len(original_train_y))\n",
    "print(\"test_y: \" ,len(test_y))\n",
    "print(\"test_X: \" ,len(test_X))\n",
    "\n",
    "train_X, validate_X, train_y, validate_y = train_test_split(original_train_X, original_train_y, \n",
    "                                                   train_size=0.8,\n",
    "                                                   test_size=0.2,\n",
    "                                                   random_state=123)\n",
    "\n",
    "print(\"------------------------\")\n",
    "print(\"train_X: \" , len(train_X))\n",
    "print(\"train_y: \" ,len(train_y))\n",
    "print(\"validate_X: \" ,len(validate_X))\n",
    "print(\"validate_y: \" ,len(validate_y))"
   ]
  },
  {
   "cell_type": "markdown",
   "metadata": {},
   "source": [
    "## Funciones generales"
   ]
  },
  {
   "cell_type": "markdown",
   "metadata": {},
   "source": [
    "### Modo graficosON: Habilitar la impresion de los graficos de todas las corridas"
   ]
  },
  {
   "cell_type": "code",
   "execution_count": 40,
   "metadata": {},
   "outputs": [],
   "source": [
    "graficosON = \"on\""
   ]
  },
  {
   "cell_type": "markdown",
   "metadata": {},
   "source": [
    "### Exportación del árbol"
   ]
  },
  {
   "cell_type": "code",
   "execution_count": 6,
   "metadata": {},
   "outputs": [],
   "source": [
    "def generate_graphviz_tree(tree, fileName):\n",
    "    dot_data = StringIO()\n",
    "    export_graphviz(tree, out_file=dot_data,  \n",
    "                filled=True, rounded=True,\n",
    "                special_characters=True)\n",
    "    graph = pydotplus.graph_from_dot_data(dot_data.getvalue()) \n",
    "    #Activar para imprimir grafo\n",
    "    if (graficosON == \"on\"):\n",
    "        graph.write_pdf(\"../data/imagenes/\"+str(fileName)+\".pdf\")\n",
    "    return Image(graph.create_png())"
   ]
  },
  {
   "cell_type": "markdown",
   "metadata": {},
   "source": [
    "### Matriz de confusión"
   ]
  },
  {
   "cell_type": "code",
   "execution_count": 7,
   "metadata": {},
   "outputs": [],
   "source": [
    "def calculate_confusion_matrix(validations, predictions):\n",
    "    matrix = confusion_matrix(validations, predictions)\n",
    "    print(\"------------------------\")\n",
    "    print(\"Confusion matrix\")\n",
    "    print (matrix)\n",
    "    return matrix"
   ]
  },
  {
   "cell_type": "markdown",
   "metadata": {},
   "source": [
    "### Roc"
   ]
  },
  {
   "cell_type": "code",
   "execution_count": 8,
   "metadata": {},
   "outputs": [],
   "source": [
    "def calculate_roc_curve(validations, predictions, fileName):\n",
    "    ley = preprocessing.LabelEncoder()\n",
    "    ley.fit(y_vector_class)\n",
    "    roc_auc=roc_auc_score(ley.transform(validations), ley.transform(predictions))\n",
    "    fpr, tpr, thresholds = roc_curve(ley.transform(validations), ley.transform(predictions))\n",
    "    print(\"------------------------\")\n",
    "    #print(thresholds)\n",
    "    #print(fpr)\n",
    "    #print(tpr)\n",
    "    print(\"Roc auc: \", roc_auc)\n",
    "    plt.plot(fpr, tpr)\n",
    "    plt.xlabel('False positive Rate')\n",
    "    plt.ylabel('True Positive Rate')\n",
    "    plt.title('Receiver operating characteristic example')\n",
    "    #plt.show()\n",
    "    if (graficosON == \"on\"):    \n",
    "        plt.savefig(\"../data/imagenes/\"+str(fileName)+\"_ROC.pdf\")\n",
    "    return plt"
   ]
  },
  {
   "cell_type": "markdown",
   "metadata": {},
   "source": [
    "### Accuracy"
   ]
  },
  {
   "cell_type": "code",
   "execution_count": 9,
   "metadata": {},
   "outputs": [],
   "source": [
    "def calculate_accuracy(validations, predictions):\n",
    "    acc=accuracy_score(validations, predictions)\n",
    "    print(\"------------------------\")\n",
    "    print (\"Accuracy: \", acc)\n",
    "    return acc"
   ]
  },
  {
   "cell_type": "markdown",
   "metadata": {},
   "source": [
    "## Cálculo de predicciones"
   ]
  },
  {
   "cell_type": "markdown",
   "metadata": {},
   "source": [
    "### Árboles de decisión\n",
    "\n",
    "El parámetro ``` function ``` en **gini** indica que va a utilziar la medida de gini gain. En cambio si el valor es **entropy** va a utilizar information gain."
   ]
  },
  {
   "cell_type": "code",
   "execution_count": 12,
   "metadata": {},
   "outputs": [],
   "source": [
    "def training_data_to_tree(train_x, validate_x, train_y, validate_y, depth = 3, leafs = None, function = 'gini'):\n",
    "    dtree=DecisionTreeClassifier(max_depth=depth, max_leaf_nodes=leafs, criterion=function)\n",
    "    dtree.fit(train_x, train_y)\n",
    "    predictions=dtree.predict(validate_x)\n",
    "    return dtree, predictions"
   ]
  },
  {
   "cell_type": "markdown",
   "metadata": {},
   "source": [
    "### Naive Bayes"
   ]
  },
  {
   "cell_type": "code",
   "execution_count": 13,
   "metadata": {},
   "outputs": [],
   "source": [
    "def naive_bayes(train_x, validate_x, train_y, validate_y):\n",
    "    gnb = GaussianNB()\n",
    "    # Entrena con los datos\n",
    "    gnb.fit(train_x, train_y)\n",
    "    predictions=gnb.predict(validate_x)\n",
    "    return predictions"
   ]
  },
  {
   "cell_type": "markdown",
   "metadata": {},
   "source": [
    "### Primera prueba de la generación del árbol"
   ]
  },
  {
   "cell_type": "code",
   "execution_count": 14,
   "metadata": {},
   "outputs": [
    {
     "name": "stdout",
     "output_type": "stream",
     "text": [
      "------------------------\n",
      "Accuracy:  0.8170103092783505\n",
      "------------------------\n",
      "Roc auc:  0.8219842284739983\n"
     ]
    },
    {
     "data": {
      "text/plain": [
       "<module 'matplotlib.pyplot' from '/home/ignacio/anaconda3/lib/python3.7/site-packages/matplotlib/pyplot.py'>"
      ]
     },
     "execution_count": 14,
     "metadata": {},
     "output_type": "execute_result"
    },
    {
     "data": {
      "image/png": "[encoded data removed]",
      "text/plain": [
       "<Figure size 432x288 with 1 Axes>"
      ]
     },
     "metadata": {
      "needs_background": "light"
     },
     "output_type": "display_data"
    }
   ],
   "source": [
    "tree, predictions = training_data_to_tree(train_x=train_X, validate_x=validate_X, train_y=train_y, validate_y=validate_y,\n",
    "                                          depth=3, leafs=None, function='gini')\n",
    "generate_graphviz_tree(tree, fileName=\"corridasIniciales/tree_Inicial\")\n",
    "#calculate_confusion_matrix(validate_y, predictions)\n",
    "calculate_accuracy(validate_y, predictions)\n",
    "calculate_roc_curve(validate_y, predictions, fileName=\"corridasIniciales/Roc_tree_Inicial\")"
   ]
  },
  {
   "cell_type": "markdown",
   "metadata": {},
   "source": [
    "### Primera prueba Naive Bayes"
   ]
  },
  {
   "cell_type": "code",
   "execution_count": 15,
   "metadata": {},
   "outputs": [
    {
     "name": "stdout",
     "output_type": "stream",
     "text": [
      "------------------------\n",
      "Accuracy:  0.6211340206185567\n",
      "------------------------\n",
      "Roc auc:  0.6013427109974425\n"
     ]
    },
    {
     "data": {
      "text/plain": [
       "<module 'matplotlib.pyplot' from '/home/ignacio/anaconda3/lib/python3.7/site-packages/matplotlib/pyplot.py'>"
      ]
     },
     "execution_count": 15,
     "metadata": {},
     "output_type": "execute_result"
    },
    {
     "data": {
      "image/png": "[encoded data removed]",
      "text/plain": [
       "<Figure size 432x288 with 1 Axes>"
      ]
     },
     "metadata": {
      "needs_background": "light"
     },
     "output_type": "display_data"
    }
   ],
   "source": [
    "predictions_naive = naive_bayes(train_X, validate_X, train_y, validate_y)\n",
    "#calculate_confusion_matrix(validate_y, predictions_naive)\n",
    "calculate_accuracy(validate_y, predictions_naive)\n",
    "calculate_roc_curve(validate_y, predictions_naive,\"corridasIniciales/Roc_nBayes_Inicial\" )"
   ]
  },
  {
   "cell_type": "markdown",
   "metadata": {},
   "source": [
    "### 2.1 & 2.2 Grid search para árboles\n",
    "\n",
    "Va a iterar sobre la altura para los valores 3, 6 y sin límite y por cada uno de ellos va a probar con la función gini gain e information gain."
   ]
  },
  {
   "cell_type": "code",
   "execution_count": 17,
   "metadata": {},
   "outputs": [],
   "source": [
    "def tree_predictions(train_x, validate_x, train_y, validate_y, depth, leafs, function, fileName):\n",
    "    tree, predictions = training_data_to_tree(train_x, validate_x, train_y, validate_y,depth, leafs, function)\n",
    "    print(\"profundidad: \",depth, \", \",\"funcion: \" ,function,\", \", \" nodos: \",  tree.tree_.node_count)\n",
    "    #calculate_accuracy(y_validate, predictions)\n",
    "    #calculate_roc_curve(y_validate, predictions)\n",
    "    calculate_accuracy(validate_y, predictions)\n",
    "    calculate_roc_curve(validate_y, predictions,fileName)\n",
    "    generate_graphviz_tree(tree,fileName)                                               "
   ]
  },
  {
   "cell_type": "code",
   "execution_count": 29,
   "metadata": {},
   "outputs": [],
   "source": [
    "def grid_search_tree(train_x, validate_x, train_y, validate_y, KFoldName):\n",
    "    depth_list = [3, 6, None]\n",
    "    function_list = ['gini', 'entropy']\n",
    "    for dep in depth_list:  \n",
    "        for func in function_list:\n",
    "            fileName = \"gridSearch/\"+KFoldName+\"gridSearch_\"+str(func)+\"_\"+str(dep)\n",
    "            tree_predictions(train_x, validate_x, train_y, validate_y, depth=dep, leafs=None, function=func, fileName=fileName)\n",
    "            #print(\"profundidad: \",dep, \", \",\"funcion: \" ,func,\", \", \" nodos: \",  tree.tree_.node_count)       "
   ]
  },
  {
   "cell_type": "markdown",
   "metadata": {},
   "source": [
    "## Cross validation KFold == 5"
   ]
  },
  {
   "cell_type": "code",
   "execution_count": 30,
   "metadata": {},
   "outputs": [
    {
     "name": "stdout",
     "output_type": "stream",
     "text": [
      "Arboles de decision\n",
      "profundidad:  3 ,  funcion:  gini ,   nodos:  13\n",
      "------------------------\n",
      "Accuracy:  0.8387096774193549\n",
      "------------------------\n",
      "Roc auc:  0.8241180461329715\n",
      "profundidad:  3 ,  funcion:  entropy ,   nodos:  15\n",
      "------------------------\n",
      "Accuracy:  0.8290322580645161\n",
      "------------------------\n",
      "Roc auc:  0.8049101085481682\n",
      "profundidad:  6 ,  funcion:  gini ,   nodos:  65\n",
      "------------------------\n",
      "Accuracy:  0.864516129032258\n",
      "------------------------\n",
      "Roc auc:  0.8539687924016284\n",
      "profundidad:  6 ,  funcion:  entropy ,   nodos:  49\n",
      "------------------------\n",
      "Accuracy:  0.8580645161290322\n",
      "------------------------\n",
      "Roc auc:  0.8527391451831752\n",
      "profundidad:  None ,  funcion:  gini ,   nodos:  239\n",
      "------------------------\n",
      "Accuracy:  0.9\n",
      "------------------------\n",
      "Roc auc:  0.8959040027137041\n",
      "profundidad:  None ,  funcion:  entropy ,   nodos:  211\n",
      "------------------------\n",
      "Accuracy:  0.867741935483871\n",
      "------------------------\n",
      "Roc auc:  0.8648236092265942\n",
      "\n",
      "************************\n",
      "\n",
      "Arboles de decision\n",
      "profundidad:  3 ,  funcion:  gini ,   nodos:  13\n",
      "------------------------\n",
      "Accuracy:  0.8225806451612904\n",
      "------------------------\n",
      "Roc auc:  0.8123809523809524\n",
      "profundidad:  3 ,  funcion:  entropy ,   nodos:  13\n",
      "------------------------\n",
      "Accuracy:  0.8064516129032258\n",
      "------------------------\n",
      "Roc auc:  0.7845502645502646\n",
      "profundidad:  6 ,  funcion:  gini ,   nodos:  57\n",
      "------------------------\n",
      "Accuracy:  0.8516129032258064\n",
      "------------------------\n",
      "Roc auc:  0.844867724867725\n",
      "profundidad:  6 ,  funcion:  entropy ,   nodos:  49\n",
      "------------------------\n",
      "Accuracy:  0.8451612903225807\n",
      "------------------------\n",
      "Roc auc:  0.8340740740740741\n",
      "profundidad:  None ,  funcion:  gini ,   nodos:  243\n",
      "------------------------\n",
      "Accuracy:  0.8451612903225807\n",
      "------------------------\n",
      "Roc auc:  0.8450793650793652\n",
      "profundidad:  None ,  funcion:  entropy ,   nodos:  219\n",
      "------------------------\n",
      "Accuracy:  0.8548387096774194\n",
      "------------------------\n",
      "Roc auc:  0.8477248677248678\n",
      "\n",
      "************************\n",
      "\n",
      "Arboles de decision\n",
      "profundidad:  3 ,  funcion:  gini ,   nodos:  13\n",
      "------------------------\n",
      "Accuracy:  0.8451612903225807\n",
      "------------------------\n",
      "Roc auc:  0.8220973782771535\n",
      "profundidad:  3 ,  funcion:  entropy ,   nodos:  13\n",
      "------------------------\n",
      "Accuracy:  0.8451612903225807\n",
      "------------------------\n",
      "Roc auc:  0.8220973782771535\n",
      "profundidad:  6 ,  funcion:  gini ,   nodos:  57\n",
      "------------------------\n",
      "Accuracy:  0.8612903225806452\n",
      "------------------------\n",
      "Roc auc:  0.8537623425263874\n",
      "profundidad:  6 ,  funcion:  entropy ,   nodos:  51\n",
      "------------------------\n",
      "Accuracy:  0.864516129032258\n",
      "------------------------\n",
      "Roc auc:  0.8526557711950971\n",
      "profundidad:  None ,  funcion:  gini ,   nodos:  239\n",
      "------------------------\n",
      "Accuracy:  0.8774193548387097\n",
      "------------------------\n",
      "Roc auc:  0.8736806264896153\n",
      "profundidad:  None ,  funcion:  entropy ,   nodos:  215\n",
      "------------------------\n",
      "Accuracy:  0.8612903225806452\n",
      "------------------------\n",
      "Roc auc:  0.862572352740892\n",
      "\n",
      "************************\n",
      "\n",
      "Arboles de decision\n",
      "profundidad:  3 ,  funcion:  gini ,   nodos:  13\n",
      "------------------------\n",
      "Accuracy:  0.8580645161290322\n",
      "------------------------\n",
      "Roc auc:  0.8477418267610382\n",
      "profundidad:  3 ,  funcion:  entropy ,   nodos:  13\n",
      "------------------------\n",
      "Accuracy:  0.8419354838709677\n",
      "------------------------\n",
      "Roc auc:  0.8267610380856084\n",
      "profundidad:  6 ,  funcion:  gini ,   nodos:  61\n",
      "------------------------\n",
      "Accuracy:  0.8903225806451613\n",
      "------------------------\n",
      "Roc auc:  0.8882709807886754\n",
      "profundidad:  6 ,  funcion:  entropy ,   nodos:  43\n",
      "------------------------\n",
      "Accuracy:  0.8741935483870967\n",
      "------------------------\n",
      "Roc auc:  0.8680064037748568\n",
      "profundidad:  None ,  funcion:  gini ,   nodos:  247\n",
      "------------------------\n",
      "Accuracy:  0.8806451612903226\n",
      "------------------------\n",
      "Roc auc:  0.8788338388945063\n",
      "profundidad:  None ,  funcion:  entropy ,   nodos:  231\n",
      "------------------------\n",
      "Accuracy:  0.8709677419354839\n",
      "------------------------\n",
      "Roc auc:  0.8701129086619481\n",
      "\n",
      "************************\n",
      "\n",
      "Arboles de decision\n",
      "profundidad:  3 ,  funcion:  gini ,   nodos:  13\n",
      "------------------------\n",
      "Accuracy:  0.8516129032258064\n",
      "------------------------\n",
      "Roc auc:  0.8294871794871794\n",
      "profundidad:  3 ,  funcion:  entropy ,   nodos:  15\n",
      "------------------------\n",
      "Accuracy:  0.8483870967741935\n",
      "------------------------\n",
      "Roc auc:  0.8245726495726495\n",
      "profundidad:  6 ,  funcion:  gini ,   nodos:  61\n",
      "------------------------\n",
      "Accuracy:  0.8774193548387097\n",
      "------------------------\n",
      "Roc auc:  0.8698717948717948\n",
      "profundidad:  6 ,  funcion:  entropy ,   nodos:  55\n",
      "------------------------\n",
      "Accuracy:  0.8806451612903226\n",
      "------------------------\n",
      "Roc auc:  0.8662393162393163\n",
      "profundidad:  None ,  funcion:  gini ,   nodos:  249\n",
      "------------------------\n",
      "Accuracy:  0.8612903225806452\n",
      "------------------------\n",
      "Roc auc:  0.8602564102564103\n",
      "profundidad:  None ,  funcion:  entropy ,   nodos:  241\n",
      "------------------------\n",
      "Accuracy:  0.8870967741935484\n",
      "------------------------\n",
      "Roc auc:  0.8835470085470085\n",
      "\n",
      "************************\n",
      "\n"
     ]
    },
    {
     "data": {
      "image/png": "[encoded data removed]",
      "text/plain": [
       "<Figure size 432x288 with 1 Axes>"
      ]
     },
     "metadata": {
      "needs_background": "light"
     },
     "output_type": "display_data"
    }
   ],
   "source": [
    "kf = ShuffleSplit(n_splits=5, test_size=0.20,random_state=np.random.seed(1234))\n",
    "\n",
    "numpy_array_data_frame = train_X.to_numpy()\n",
    "numpy_y_vector = np.array(train_y)\n",
    "foldIndex=1\n",
    "for train_index, validate_index in kf.split(train_X):\n",
    "    # Aca hay que tomar promedio de los 5 folds y desvio\n",
    "    X_train, X_validate = numpy_array_data_frame[train_index], numpy_array_data_frame[validate_index]\n",
    "    y_train, y_validate = numpy_y_vector[train_index], numpy_y_vector[validate_index]\n",
    "    print(\"Arboles de decision\")\n",
    "    grid_search_tree(train_x=X_train, validate_x=X_validate, train_y=y_train, validate_y=y_validate, KFoldName=\"tree_FOLD_\"+str(foldIndex)+\"_\" )\n",
    "    print(\"\")\n",
    "    #print(\"Naive Bayes\")\n",
    "    #predictions_naive = naive_bayes(train_x=X_train, validate_x=X_validate, train_y=y_train, validate_y=y_validate)\n",
    "    #calculate_accuracy(y_validate, predictions_naive)\n",
    "    #roc_graph = calculate_roc_curve(y_validate, predictions_naive)\n",
    "    print(\"************************\\n\")\n",
    "    foldIndex=foldIndex+1"
   ]
  },
  {
   "cell_type": "markdown",
   "metadata": {},
   "source": [
    "### Mejores hiperparametros para los árboles\n",
    "\n",
    "**Estos parametros deben ser cambiados cuando se haya realizado el analisis del algoritmo**"
   ]
  },
  {
   "cell_type": "code",
   "execution_count": 31,
   "metadata": {},
   "outputs": [],
   "source": [
    "#Luego de analizados los resultado del punto 2.2 concluimos que la mejor combinación es la siguiente\n",
    "best_depth = None\n",
    "best_function = 'gini'"
   ]
  },
  {
   "cell_type": "markdown",
   "metadata": {},
   "source": [
    "## Generacion de moda por dataFrame completo y por clase."
   ]
  },
  {
   "cell_type": "code",
   "execution_count": 32,
   "metadata": {},
   "outputs": [],
   "source": [
    "#Tomo la Moda por columna\n",
    "modeList=[]\n",
    "modeList_class0=[]\n",
    "modeList_class1=[]\n",
    "df_class0 = pd.DataFrame()\n",
    "df_class1 = pd.DataFrame()\n",
    "# Separo el df en dos df uno con las filas de la Clase0 y otro con las filas de la Clase1\n",
    "for i in range(0,dataFrame.count()[0]):\n",
    "    if (y_vector_class[i]=='1'):\n",
    "        df_class1 = df_class1.append(dataFrame.iloc[i])\n",
    "    else:\n",
    "        df_class0 = df_class0.append(dataFrame.iloc[i])\n",
    "\n",
    "for i in range(0,len(dataFrame.columns)):\n",
    "    modeList.append(dataFrame.mode()[i][0])\n",
    "    \n",
    "for i in range(0,len(df_class0.columns)):\n",
    "    modeList_class0.append(df_class0.mode()[i][0])\n",
    "    \n",
    "for i in range(0,len(df_class1.columns)):\n",
    "    modeList_class1.append(df_class1.mode()[i][0])\n",
    "\n",
    "#print(\"Cantidad de Columnas del DF: \", len(dataFrame.columns)) \n",
    "#print(\"Lista con las modas de las columnas del DF completo: \")\n",
    "#print(\"# Elementos del dataFrame Full: \",dataFrame.count()[0])\n",
    "#print(modeList)\n",
    "#print(\"\\n----------------------\\n\")\n",
    "#print(\"Lista con las modas de las columnas del DF Clase0 completo: \")\n",
    "#print(\"# Elementos del df Clase0: \",df_class0.count()[0])\n",
    "#print(modeList_class0)\n",
    "#print(\"\\n----------------------\\n\")\n",
    "#print(\"Lista con las modas de las columnas del DF Clase1 completo: \")\n",
    "#print(\"# Elementos del df Clase1: \",df_class1.count()[0])\n",
    "#print(modeList_class1)\n",
    "#print(\"\\n----------------------\\n\")\n",
    "\n",
    "#df_class0.to_csv(r'./df_class0.csv')\n",
    "#df_class1.to_csv(r'./df_class1.csv')"
   ]
  },
  {
   "cell_type": "markdown",
   "metadata": {},
   "source": [
    "## Funcion ind_ruido: Introduce un porcentaje de ruido a un numero."
   ]
  },
  {
   "cell_type": "code",
   "execution_count": 33,
   "metadata": {},
   "outputs": [],
   "source": [
    "#random.normal(0,1,100)\n",
    "# 0 media de la distribucion normal de la que estoy eligiendo.\n",
    "# 1 standard deviation de la distribucion normal.\n",
    "# 100 Cantidad de elementos en el array de ruido\n",
    "def ind_ruido(value):\n",
    "    noise=0\n",
    "    for i in range(1,50):\n",
    "        noise = noise+abs(np.random.normal(0,1,1)[0])\n",
    "    noise=noise/50    \n",
    "    value_noise=value+noise\n",
    "    return value_noise\n"
   ]
  },
  {
   "cell_type": "markdown",
   "metadata": {},
   "source": [
    "## Reemplaza un % valores al azar en una columna."
   ]
  },
  {
   "cell_type": "code",
   "execution_count": 34,
   "metadata": {},
   "outputs": [],
   "source": [
    "# df: DataFrame a modificar.\n",
    "# column: Columna a la que se le quiere aplicar el cambio.\n",
    "# percentaje: % de datos a cambiar.\n",
    "# newValue: Nuevo valor a aplicar.\n",
    "def replaceValueDf(df, column, percentage, newValue, noise):\n",
    "    lenDF = len(df)\n",
    "    replacePositions=[]\n",
    "    percentage=int(round(df.count()[0]*(percentage/100)))\n",
    "    #print(\"Porcentaje de los datos a cambiar:\", percentage)\n",
    "    for x in range(percentage):\n",
    "        replacePositions.append(random.randint(0,lenDF))\n",
    "            \n",
    "    #print(replacePositions)\n",
    "    \n",
    "    for i in range(0,len(replacePositions)):\n",
    "        #print(\"# fila: \",replacePositions[i],\" columna: \", column, \" newValue: \",newValue)\n",
    "        #print(\"DATO: \",df.iat[replacePositions[i]-2,column-1])\n",
    "        if(noise == \"true\"):\n",
    "            newValue=ind_ruido(int(df.iat[replacePositions[i]-2,column-1]))\n",
    "        df.iloc[replacePositions[i]-2,column-1]=newValue\n",
    "      \n",
    "    return df"
   ]
  },
  {
   "cell_type": "markdown",
   "metadata": {},
   "source": [
    "## 2.4. Tolerancia a Ruido: Modificar atributos agregandoles ruido en porcentajes de 0% a 35% con un paso de 5%"
   ]
  },
  {
   "cell_type": "code",
   "execution_count": 36,
   "metadata": {},
   "outputs": [
    {
     "name": "stdout",
     "output_type": "stream",
     "text": [
      "% de valores a modificar:  0\n",
      "profundidad:  None ,  funcion:  gini ,   nodos:  291\n",
      "------------------------\n",
      "Accuracy:  0.8427835051546392\n",
      "------------------------\n",
      "Roc auc:  0.8427642796248935\n",
      "% de valores a modificar:  5\n",
      "profundidad:  None ,  funcion:  gini ,   nodos:  291\n",
      "------------------------\n",
      "Accuracy:  0.8556701030927835\n",
      "------------------------\n",
      "Roc auc:  0.8555520034100597\n",
      "% de valores a modificar:  10\n",
      "profundidad:  None ,  funcion:  gini ,   nodos:  289\n",
      "------------------------\n",
      "Accuracy:  0.8530927835051546\n",
      "------------------------\n",
      "Roc auc:  0.8533674339300938\n",
      "% de valores a modificar:  15\n",
      "profundidad:  None ,  funcion:  gini ,   nodos:  295\n",
      "------------------------\n",
      "Accuracy:  0.8556701030927835\n",
      "------------------------\n",
      "Roc auc:  0.8555520034100597\n",
      "% de valores a modificar:  20\n",
      "profundidad:  None ,  funcion:  gini ,   nodos:  295\n",
      "------------------------\n",
      "Accuracy:  0.8427835051546392\n",
      "------------------------\n",
      "Roc auc:  0.8432971014492754\n",
      "% de valores a modificar:  25\n",
      "profundidad:  None ,  funcion:  gini ,   nodos:  291\n",
      "------------------------\n",
      "Accuracy:  0.8427835051546392\n",
      "------------------------\n",
      "Roc auc:  0.8430306905370845\n",
      "% de valores a modificar:  30\n",
      "profundidad:  None ,  funcion:  gini ,   nodos:  291\n",
      "------------------------\n",
      "Accuracy:  0.8376288659793815\n",
      "------------------------\n",
      "Roc auc:  0.8381287297527708\n",
      "% de valores a modificar:  35\n",
      "profundidad:  None ,  funcion:  gini ,   nodos:  291\n",
      "------------------------\n",
      "Accuracy:  0.8479381443298969\n",
      "------------------------\n",
      "Roc auc:  0.848998294970162\n"
     ]
    },
    {
     "data": {
      "image/png": "[encoded data removed]",
      "text/plain": [
       "<Figure size 432x288 with 1 Axes>"
      ]
     },
     "metadata": {
      "needs_background": "light"
     },
     "output_type": "display_data"
    }
   ],
   "source": [
    "column=5\n",
    "def ind_ruido_DF(df, column):\n",
    "    for i in range(5,36,5):\n",
    "        print(\"% de valores a modificar: \",i)\n",
    "        replaceValueDf(df, column, i, 0, \"true\")\n",
    "        fileName = \"noise/tree_NOISE_\"+str(i)+\"%_\"\n",
    "        tree_predictions(train_x=df, validate_x=validate_X, train_y=train_y, validate_y=validate_y,\n",
    "                                             depth=best_depth, leafs=None, function=best_function, fileName=fileName)\n",
    "\n",
    "dfNoise =train_X.copy(deep=True)\n",
    "ind_ruido_DF(dfNoise, column)"
   ]
  },
  {
   "cell_type": "markdown",
   "metadata": {},
   "source": [
    "## 2.3 Reemplazo datos de la columna por Moda de DF, Moda del DF_Clase0, Moda del DF_Clase1"
   ]
  },
  {
   "cell_type": "code",
   "execution_count": 37,
   "metadata": {},
   "outputs": [
    {
     "name": "stdout",
     "output_type": "stream",
     "text": [
      "% de valores a modificar:  5  modaTotal, modaClass0, modaClass1:  2220 2220 36300\n",
      "Moda total de columna\n",
      "profundidad:  None ,  funcion:  gini ,   nodos:  299\n",
      "------------------------\n",
      "Accuracy:  0.8505154639175257\n",
      "------------------------\n",
      "Roc auc:  0.8511828644501279\n",
      "Moda total de columna en clase_0\n",
      "profundidad:  None ,  funcion:  gini ,   nodos:  293\n",
      "------------------------\n",
      "Accuracy:  0.8402061855670103\n",
      "------------------------\n",
      "Roc auc:  0.8400468883205456\n",
      "Moda total de columna en clase_1\n",
      "profundidad:  None ,  funcion:  gini ,   nodos:  291\n",
      "------------------------\n",
      "Accuracy:  0.8427835051546392\n",
      "------------------------\n",
      "Roc auc:  0.8430306905370845\n",
      "\n",
      "----------------------\n",
      "\n",
      "% de valores a modificar:  10  modaTotal, modaClass0, modaClass1:  2220 2220 36300\n",
      "Moda total de columna\n",
      "profundidad:  None ,  funcion:  gini ,   nodos:  291\n",
      "------------------------\n",
      "Accuracy:  0.8427835051546392\n",
      "------------------------\n",
      "Roc auc:  0.8427642796248935\n",
      "Moda total de columna en clase_0\n",
      "profundidad:  None ,  funcion:  gini ,   nodos:  281\n",
      "------------------------\n",
      "Accuracy:  0.8427835051546392\n",
      "------------------------\n",
      "Roc auc:  0.8435635123614664\n",
      "Moda total de columna en clase_1\n",
      "profundidad:  None ,  funcion:  gini ,   nodos:  291\n",
      "------------------------\n",
      "Accuracy:  0.8530927835051546\n",
      "------------------------\n",
      "Roc auc:  0.8536338448422847\n",
      "\n",
      "----------------------\n",
      "\n",
      "% de valores a modificar:  15  modaTotal, modaClass0, modaClass1:  2220 2220 36300\n",
      "Moda total de columna\n",
      "profundidad:  None ,  funcion:  gini ,   nodos:  289\n",
      "------------------------\n",
      "Accuracy:  0.8350515463917526\n",
      "------------------------\n",
      "Roc auc:  0.8362105711849958\n",
      "Moda total de columna en clase_0\n",
      "profundidad:  None ,  funcion:  gini ,   nodos:  301\n",
      "------------------------\n",
      "Accuracy:  0.8402061855670103\n",
      "------------------------\n",
      "Roc auc:  0.8403132992327367\n",
      "Moda total de columna en clase_1\n",
      "profundidad:  None ,  funcion:  gini ,   nodos:  309\n",
      "------------------------\n",
      "Accuracy:  0.8298969072164949\n",
      "------------------------\n",
      "Roc auc:  0.830509377664109\n",
      "\n",
      "----------------------\n",
      "\n",
      "% de valores a modificar:  20  modaTotal, modaClass0, modaClass1:  2220 2220 36300\n",
      "Moda total de columna\n",
      "profundidad:  None ,  funcion:  gini ,   nodos:  305\n",
      "------------------------\n",
      "Accuracy:  0.845360824742268\n",
      "------------------------\n",
      "Roc auc:  0.8452152600170503\n",
      "Moda total de columna en clase_0\n",
      "profundidad:  None ,  funcion:  gini ,   nodos:  303\n",
      "------------------------\n",
      "Accuracy:  0.8402061855670103\n",
      "------------------------\n",
      "Roc auc:  0.8400468883205456\n",
      "Moda total de columna en clase_1\n",
      "profundidad:  None ,  funcion:  gini ,   nodos:  305\n",
      "------------------------\n",
      "Accuracy:  0.8273195876288659\n",
      "------------------------\n",
      "Roc auc:  0.8275255754475703\n",
      "\n",
      "----------------------\n",
      "\n",
      "% de valores a modificar:  25  modaTotal, modaClass0, modaClass1:  2220 2220 36300\n",
      "Moda total de columna\n",
      "profundidad:  None ,  funcion:  gini ,   nodos:  311\n",
      "------------------------\n",
      "Accuracy:  0.8350515463917526\n",
      "------------------------\n",
      "Roc auc:  0.834878516624041\n",
      "Moda total de columna en clase_0\n",
      "profundidad:  None ,  funcion:  gini ,   nodos:  289\n",
      "------------------------\n",
      "Accuracy:  0.8324742268041238\n",
      "------------------------\n",
      "Roc auc:  0.832960358056266\n",
      "Moda total de columna en clase_1\n",
      "profundidad:  None ,  funcion:  gini ,   nodos:  311\n",
      "------------------------\n",
      "Accuracy:  0.8402061855670103\n",
      "------------------------\n",
      "Roc auc:  0.8397804774083547\n",
      "\n",
      "----------------------\n",
      "\n",
      "% de valores a modificar:  30  modaTotal, modaClass0, modaClass1:  2220 2220 36300\n",
      "Moda total de columna\n",
      "profundidad:  None ,  funcion:  gini ,   nodos:  295\n",
      "------------------------\n",
      "Accuracy:  0.8324742268041238\n",
      "------------------------\n",
      "Roc auc:  0.8318947144075022\n",
      "Moda total de columna en clase_0\n",
      "profundidad:  None ,  funcion:  gini ,   nodos:  307\n",
      "------------------------\n",
      "Accuracy:  0.8350515463917526\n",
      "------------------------\n",
      "Roc auc:  0.8351449275362319\n",
      "Moda total de columna en clase_1\n",
      "profundidad:  None ,  funcion:  gini ,   nodos:  295\n",
      "------------------------\n",
      "Accuracy:  0.8402061855670103\n",
      "------------------------\n",
      "Roc auc:  0.8397804774083547\n",
      "\n",
      "----------------------\n",
      "\n",
      "% de valores a modificar:  35  modaTotal, modaClass0, modaClass1:  2220 2220 36300\n",
      "Moda total de columna\n",
      "profundidad:  None ,  funcion:  gini ,   nodos:  299\n",
      "------------------------\n",
      "Accuracy:  0.8324742268041238\n",
      "------------------------\n",
      "Roc auc:  0.8324275362318841\n",
      "Moda total de columna en clase_0\n",
      "profundidad:  None ,  funcion:  gini ,   nodos:  299\n",
      "------------------------\n",
      "Accuracy:  0.8324742268041238\n",
      "------------------------\n",
      "Roc auc:  0.832960358056266\n",
      "Moda total de columna en clase_1\n",
      "profundidad:  None ,  funcion:  gini ,   nodos:  305\n",
      "------------------------\n",
      "Accuracy:  0.8273195876288659\n",
      "------------------------\n",
      "Roc auc:  0.8272591645353794\n",
      "\n",
      "----------------------\n",
      "\n",
      "% de valores a modificar:  40  modaTotal, modaClass0, modaClass1:  2220 2220 36300\n",
      "Moda total de columna\n",
      "profundidad:  None ,  funcion:  gini ,   nodos:  309\n",
      "------------------------\n",
      "Accuracy:  0.8402061855670103\n",
      "------------------------\n",
      "Roc auc:  0.8400468883205456\n",
      "Moda total de columna en clase_0\n",
      "profundidad:  None ,  funcion:  gini ,   nodos:  287\n",
      "------------------------\n",
      "Accuracy:  0.8530927835051546\n",
      "------------------------\n",
      "Roc auc:  0.8533674339300938\n",
      "Moda total de columna en clase_1\n",
      "profundidad:  None ,  funcion:  gini ,   nodos:  311\n",
      "------------------------\n",
      "Accuracy:  0.8273195876288659\n",
      "------------------------\n",
      "Roc auc:  0.8264599317988064\n",
      "\n",
      "----------------------\n",
      "\n",
      "% de valores a modificar:  45  modaTotal, modaClass0, modaClass1:  2220 2220 36300\n",
      "Moda total de columna\n",
      "profundidad:  None ,  funcion:  gini ,   nodos:  321\n",
      "------------------------\n",
      "Accuracy:  0.8324742268041238\n",
      "------------------------\n",
      "Roc auc:  0.8326939471440751\n",
      "Moda total de columna en clase_0\n",
      "profundidad:  None ,  funcion:  gini ,   nodos:  301\n",
      "------------------------\n",
      "Accuracy:  0.8350515463917526\n",
      "------------------------\n",
      "Roc auc:  0.83461210571185\n",
      "Moda total de columna en clase_1\n",
      "profundidad:  None ,  funcion:  gini ,   nodos:  301\n",
      "------------------------\n",
      "Accuracy:  0.8427835051546392\n",
      "------------------------\n",
      "Roc auc:  0.8432971014492754\n",
      "\n",
      "----------------------\n",
      "\n",
      "% de valores a modificar:  50  modaTotal, modaClass0, modaClass1:  2220 2220 36300\n",
      "Moda total de columna\n",
      "profundidad:  None ,  funcion:  gini ,   nodos:  291\n",
      "------------------------\n",
      "Accuracy:  0.8298969072164949\n",
      "------------------------\n",
      "Roc auc:  0.8297101449275363\n",
      "Moda total de columna en clase_0\n",
      "profundidad:  None ,  funcion:  gini ,   nodos:  303\n",
      "------------------------\n",
      "Accuracy:  0.8324742268041238\n",
      "------------------------\n",
      "Roc auc:  0.8318947144075022\n",
      "Moda total de columna en clase_1\n",
      "profundidad:  None ,  funcion:  gini ,   nodos:  297\n",
      "------------------------\n",
      "Accuracy:  0.8273195876288659\n",
      "------------------------\n",
      "Roc auc:  0.8277919863597613\n",
      "\n",
      "----------------------\n",
      "\n",
      "% de valores a modificar:  55  modaTotal, modaClass0, modaClass1:  2220 2220 36300\n",
      "Moda total de columna\n",
      "profundidad:  None ,  funcion:  gini ,   nodos:  309\n",
      "------------------------\n",
      "Accuracy:  0.8298969072164949\n",
      "------------------------\n",
      "Roc auc:  0.8297101449275363\n",
      "Moda total de columna en clase_0\n",
      "profundidad:  None ,  funcion:  gini ,   nodos:  293\n",
      "------------------------\n",
      "Accuracy:  0.8298969072164949\n",
      "------------------------\n",
      "Roc auc:  0.8299765558397273\n",
      "Moda total de columna en clase_1\n",
      "profundidad:  None ,  funcion:  gini ,   nodos:  301\n",
      "------------------------\n",
      "Accuracy:  0.8376288659793815\n",
      "------------------------\n",
      "Roc auc:  0.8375959079283888\n",
      "\n",
      "----------------------\n",
      "\n",
      "% de valores a modificar:  60  modaTotal, modaClass0, modaClass1:  2220 2220 36300\n",
      "Moda total de columna\n",
      "profundidad:  None ,  funcion:  gini ,   nodos:  311\n",
      "------------------------\n",
      "Accuracy:  0.8324742268041238\n",
      "------------------------\n",
      "Roc auc:  0.8324275362318841\n",
      "Moda total de columna en clase_0\n",
      "profundidad:  None ,  funcion:  gini ,   nodos:  295\n",
      "------------------------\n",
      "Accuracy:  0.8273195876288659\n",
      "------------------------\n",
      "Roc auc:  0.8283248081841432\n",
      "Moda total de columna en clase_1\n",
      "profundidad:  None ,  funcion:  gini ,   nodos:  297\n",
      "------------------------\n",
      "Accuracy:  0.8298969072164949\n",
      "------------------------\n",
      "Roc auc:  0.8299765558397273\n",
      "\n",
      "----------------------\n",
      "\n",
      "% de valores a modificar:  65  modaTotal, modaClass0, modaClass1:  2220 2220 36300\n",
      "Moda total de columna\n",
      "profundidad:  None ,  funcion:  gini ,   nodos:  307\n",
      "------------------------\n",
      "Accuracy:  0.8273195876288659\n",
      "------------------------\n",
      "Roc auc:  0.8269927536231885\n",
      "Moda total de columna en clase_0\n",
      "profundidad:  None ,  funcion:  gini ,   nodos:  305\n",
      "------------------------\n",
      "Accuracy:  0.8376288659793815\n",
      "------------------------\n",
      "Roc auc:  0.8375959079283888\n",
      "Moda total de columna en clase_1\n",
      "profundidad:  None ,  funcion:  gini ,   nodos:  297\n",
      "------------------------\n",
      "Accuracy:  0.8479381443298969\n",
      "------------------------\n",
      "Roc auc:  0.8487318840579711\n",
      "\n",
      "----------------------\n",
      "\n",
      "% de valores a modificar:  70  modaTotal, modaClass0, modaClass1:  2220 2220 36300\n",
      "Moda total de columna\n",
      "profundidad:  None ,  funcion:  gini ,   nodos:  297\n",
      "------------------------\n",
      "Accuracy:  0.8376288659793815\n",
      "------------------------\n",
      "Roc auc:  0.8373294970161979\n",
      "Moda total de columna en clase_0\n",
      "profundidad:  None ,  funcion:  gini ,   nodos:  309\n",
      "------------------------\n",
      "Accuracy:  0.8298969072164949\n",
      "------------------------\n",
      "Roc auc:  0.8297101449275363\n",
      "Moda total de columna en clase_1\n",
      "profundidad:  None ,  funcion:  gini ,   nodos:  303\n",
      "------------------------\n",
      "Accuracy:  0.7989690721649485\n",
      "------------------------\n",
      "Roc auc:  0.7979006820119352\n",
      "\n",
      "----------------------\n",
      "\n",
      "% de valores a modificar:  75  modaTotal, modaClass0, modaClass1:  2220 2220 36300\n",
      "Moda total de columna\n",
      "profundidad:  None ,  funcion:  gini ,   nodos:  299\n",
      "------------------------\n",
      "Accuracy:  0.8144329896907216\n",
      "------------------------\n",
      "Roc auc:  0.8144714407502132\n",
      "Moda total de columna en clase_0\n",
      "profundidad:  None ,  funcion:  gini ,   nodos:  301\n",
      "------------------------\n",
      "Accuracy:  0.8324742268041238\n",
      "------------------------\n",
      "Roc auc:  0.8321611253196931\n",
      "Moda total de columna en clase_1\n",
      "profundidad:  None ,  funcion:  gini ,   nodos:  299\n",
      "------------------------\n",
      "Accuracy:  0.8376288659793815\n",
      "------------------------\n",
      "Roc auc:  0.8373294970161979\n",
      "\n",
      "----------------------\n",
      "\n",
      "% de valores a modificar:  80  modaTotal, modaClass0, modaClass1:  2220 2220 36300\n",
      "Moda total de columna\n",
      "profundidad:  None ,  funcion:  gini ,   nodos:  307\n",
      "------------------------\n",
      "Accuracy:  0.8273195876288659\n",
      "------------------------\n",
      "Roc auc:  0.8272591645353794\n",
      "Moda total de columna en clase_0\n",
      "profundidad:  None ,  funcion:  gini ,   nodos:  303\n",
      "------------------------\n",
      "Accuracy:  0.8402061855670103\n",
      "------------------------\n",
      "Roc auc:  0.8395140664961638\n",
      "Moda total de columna en clase_1\n",
      "profundidad:  None ,  funcion:  gini ,   nodos:  301\n",
      "------------------------\n",
      "Accuracy:  0.8247422680412371\n",
      "------------------------\n",
      "Roc auc:  0.8250745950554135\n",
      "\n",
      "----------------------\n",
      "\n"
     ]
    },
    {
     "data": {
      "image/png": "[encoded data removed]",
      "text/plain": [
       "<Figure size 432x288 with 1 Axes>"
      ]
     },
     "metadata": {
      "needs_background": "light"
     },
     "output_type": "display_data"
    }
   ],
   "source": [
    "# Reemplazar la columna 5 por la moda de la Columna y por la moda de la clase0 y clase1\n",
    "column=5\n",
    "dfMode=[]\n",
    "dfMode_class0=[]\n",
    "dfMode_class1=[]\n",
    "\n",
    "for i in range(5,81,5):\n",
    "    print(\"% de valores a modificar: \",i,\" modaTotal, modaClass0, modaClass1: \", modeList[5], modeList_class0[5], modeList_class1[5])\n",
    "    dfMode =train_X.copy(deep=True)\n",
    "    dfMode_class0=train_X.copy(deep=True)\n",
    "    dfMode_class1=train_X.copy(deep=True)\n",
    "    replaceValueDf(dfMode, column, i, modeList_class0[column], \"false\")\n",
    "    print(\"Moda total de columna\")\n",
    "    fileName = \"mode/tree_MODATOTAL_\"+str(i)+\"%_\"\n",
    "    tree_predictions(train_x=dfMode, validate_x=validate_X, train_y=train_y, validate_y=validate_y,\n",
    "                                         depth=best_depth, leafs=None, function=best_function, fileName=fileName)\n",
    "    \n",
    "    fileName = \"mode/tree_MODACLASE_0_\"+str(i)+\"%_\"\n",
    "    print(\"Moda total de columna en clase_0\")\n",
    "    replaceValueDf(dfMode_class0, 5, i, modeList_class0[column], \"false\")\n",
    "    tree_predictions(train_x=dfMode_class0, validate_x=validate_X, train_y=train_y, validate_y=validate_y,\n",
    "                                         depth=best_depth, leafs=None, function=best_function, fileName=fileName)\n",
    "    fileName = \"mode/tree_MODACLASE_1_\"+str(i)+\"%_\"\n",
    "    print(\"Moda total de columna en clase_1\")\n",
    "    replaceValueDf(dfMode_class1, 5, i, modeList_class1[column], \"false\")\n",
    "    tree_predictions(train_x=dfMode_class1, validate_x=validate_X, train_y=train_y, validate_y=validate_y,\n",
    "                                         depth=best_depth, leafs=None, function=best_function, fileName=fileName)\n",
    "    print(\"\\n----------------------\\n\")\n",
    "    \n",
    "#dfMode.to_csv(\"./dfMode.csv\")"
   ]
  },
  {
   "cell_type": "markdown",
   "metadata": {},
   "source": [
    "## 4. Comparación de algoritmos"
   ]
  },
  {
   "cell_type": "code",
   "execution_count": 38,
   "metadata": {},
   "outputs": [
    {
     "name": "stdout",
     "output_type": "stream",
     "text": [
      "Arbol de decision\n",
      "------------------------\n",
      "Accuracy:  0.8471720818291215\n",
      "\n",
      "Naive Bayes\n",
      "------------------------\n",
      "Accuracy:  0.6341756919374247\n"
     ]
    },
    {
     "data": {
      "text/plain": [
       "0.6341756919374247"
      ]
     },
     "execution_count": 38,
     "metadata": {},
     "output_type": "execute_result"
    }
   ],
   "source": [
    "print(\"Arbol de decision\")\n",
    "# Reemplazar depth y function por los que mejor dieron\n",
    "tree, predictions = training_data_to_tree(train_x=original_train_X, validate_x=test_X, train_y=original_train_y, validate_y=test_y,\n",
    "                                          depth=best_depth, leafs=None, function=best_function)\n",
    "calculate_accuracy(test_y, predictions)\n",
    "    \n",
    "print(\"\")\n",
    "print(\"Naive Bayes\")\n",
    "predictions_naive = naive_bayes(train_x=original_train_X, validate_x=test_X, train_y=original_train_y, validate_y=test_y)\n",
    "calculate_accuracy(test_y, predictions_naive)"
   ]
  },
  {
   "cell_type": "code",
   "execution_count": null,
   "metadata": {},
   "outputs": [],
   "source": []
  },
  {
   "cell_type": "code",
   "execution_count": null,
   "metadata": {},
   "outputs": [],
   "source": []
  },
  {
   "cell_type": "code",
   "execution_count": null,
   "metadata": {},
   "outputs": [],
   "source": []
  }
 ],
 "metadata": {
  "kernelspec": {
   "display_name": "Python 3",
   "language": "python",
   "name": "python3"
  },
  "language_info": {
   "codemirror_mode": {
    "name": "ipython",
    "version": 3
   },
   "file_extension": ".py",
   "mimetype": "text/x-python",
   "name": "python",
   "nbconvert_exporter": "python",
   "pygments_lexer": "ipython3",
   "version": "3.7.3"
  }
 },
 "nbformat": 4,
 "nbformat_minor": 2
}
